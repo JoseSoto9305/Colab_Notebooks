{
  "nbformat": 4,
  "nbformat_minor": 0,
  "metadata": {
    "colab": {
      "name": "custom_print_keras_training.ipynb",
      "provenance": [],
      "collapsed_sections": [],
      "authorship_tag": "ABX9TyP9jzmMRio4IuOPrCsqLUTX",
      "include_colab_link": true
    },
    "kernelspec": {
      "name": "python3",
      "display_name": "Python 3"
    }
  },
  "cells": [
    {
      "cell_type": "markdown",
      "metadata": {
        "id": "view-in-github",
        "colab_type": "text"
      },
      "source": [
        "<a href=\"https://colab.research.google.com/github/JoseSoto9305/Colab_Notebooks/blob/main/custom_print_keras_training.ipynb\" target=\"_parent\"><img src=\"https://colab.research.google.com/assets/colab-badge.svg\" alt=\"Open In Colab\"/></a>"
      ]
    },
    {
      "cell_type": "markdown",
      "metadata": {
        "id": "cqqeQzxaa27r"
      },
      "source": [
        "---\r\n",
        "\r\n",
        "In this script, we want to display the **confusion matrix** after each <br>\r\n",
        "epoch ends during the training process.\r\n",
        "\r\n",
        "<br>\r\n",
        "\r\n",
        "*Maybe the versions of Python, tensorflow and numpy will change* <br> \r\n",
        "*when you run this script. We are using:* <br>\r\n",
        "\r\n",
        "*python == 3.6* <br>\r\n",
        "*numpy == 1.19*<br>\r\n",
        "*tensorflow == 2.4.1*\r\n",
        "\r\n",
        "---"
      ]
    },
    {
      "cell_type": "code",
      "metadata": {
        "colab": {
          "base_uri": "https://localhost:8080/"
        },
        "id": "wYmQnf2SONab",
        "outputId": "43cfc89f-256c-4f10-d599-0f19e7e8c313"
      },
      "source": [
        "import sys\r\n",
        "import numpy as np\r\n",
        "import tensorflow as tf\r\n",
        "\r\n",
        "print(f'numpy version: {np.__version__}')\r\n",
        "print(f'tensorflow version: {tf.__version__}')\r\n",
        "print(sys.version_info)"
      ],
      "execution_count": null,
      "outputs": [
        {
          "output_type": "stream",
          "text": [
            "numpy version: 1.19.5\n",
            "tensorflow version: 2.4.1\n",
            "sys.version_info(major=3, minor=6, micro=9, releaselevel='final', serial=0)\n"
          ],
          "name": "stdout"
        }
      ]
    },
    {
      "cell_type": "code",
      "metadata": {
        "colab": {
          "base_uri": "https://localhost:8080/"
        },
        "id": "-wudlU7zOmuw",
        "outputId": "20f0aabf-a4e1-4804-a164-60c0de030e7b"
      },
      "source": [
        "# First, we need some data and some model to tes  ...\r\n",
        "(x_train, y_train), (x_test, y_test) = tf.keras.datasets.mnist.load_data()\r\n",
        "\r\n",
        "# Reshape data and labels\r\n",
        "x_train = x_train.reshape(-1, 784).astype(np.float32) / 255.0\r\n",
        "x_test = x_test.reshape(-1, 784).astype(np.float32) / 255.0\r\n",
        "\r\n",
        "# We will display a confusion maxtrix, so we need the labels as hot vectors\r\n",
        "n_labels = np.unique(y_train).size\r\n",
        "\r\n",
        "y_train = tf.keras.utils.to_categorical(y_train, num_classes=n_labels)\r\n",
        "y_test = tf.keras.utils.to_categorical(y_test, num_classes=n_labels)\r\n",
        "\r\n",
        "print(f'Data shape: {x_train.shape}')\r\n",
        "print(f'Labels shape: {y_train.shape}')"
      ],
      "execution_count": null,
      "outputs": [
        {
          "output_type": "stream",
          "text": [
            "Data shape: (60000, 784)\n",
            "Labels shape: (60000, 10)\n"
          ],
          "name": "stdout"
        }
      ]
    },
    {
      "cell_type": "code",
      "metadata": {
        "colab": {
          "base_uri": "https://localhost:8080/"
        },
        "id": "vHQYu8BnRS1h",
        "outputId": "b2d6a2e6-fcb3-4a27-d536-45a3d3cece3c"
      },
      "source": [
        "# Build some model ...\r\n",
        "model = tf.keras.Sequential([tf.keras.layers.Dense(n_labels, \r\n",
        "                                                   input_dim=x_train.shape[-1])])\r\n",
        "model.summary()"
      ],
      "execution_count": null,
      "outputs": [
        {
          "output_type": "stream",
          "text": [
            "Model: \"sequential\"\n",
            "_________________________________________________________________\n",
            "Layer (type)                 Output Shape              Param #   \n",
            "=================================================================\n",
            "dense (Dense)                (None, 10)                7850      \n",
            "=================================================================\n",
            "Total params: 7,850\n",
            "Trainable params: 7,850\n",
            "Non-trainable params: 0\n",
            "_________________________________________________________________\n"
          ],
          "name": "stdout"
        }
      ]
    },
    {
      "cell_type": "code",
      "metadata": {
        "id": "ag0ZtM5CR1l-"
      },
      "source": [
        "# Build our custom metric. In this case we will build a confusion matrix\r\n",
        "# that we want to display after each epoch ends.\r\n",
        "\r\n",
        "class ConfusionMatrix(tf.keras.metrics.Metric):\r\n",
        "\r\n",
        "    def __init__(self, name='cfs_mtx', n_labels=4, **kwargs):\r\n",
        "        \r\n",
        "        super(ConfusionMatrix, self).__init__(name=name, **kwargs)\r\n",
        "        self.n_labels = n_labels\r\n",
        "\r\n",
        "        # This will allocate our confusion matrix\r\n",
        "        self.mtx = self.add_weight(shape=(self.n_labels, self.n_labels), \r\n",
        "                                   name='mtx', \r\n",
        "                                   initializer='zeros', \r\n",
        "                                   dtype=tf.int32)\r\n",
        "\r\n",
        "\r\n",
        "    def update_state(self, y_true, y_pred, sample_weight=None):\r\n",
        "        # Compute metric\r\n",
        "        y_true = tf.cast(tf.argmax(y_true, axis=-1), dtype=tf.int32)\r\n",
        "        y_pred = tf.cast(tf.argmax(y_pred, axis=-1), dtype=tf.int32)\r\n",
        "        mtx = tf.math.confusion_matrix(y_true, y_pred, num_classes=self.n_labels,\r\n",
        "                                       dtype=tf.int32)\r\n",
        "        if sample_weight is not None:\r\n",
        "            # Do something\r\n",
        "            pass\r\n",
        "        self.mtx.assign_add(mtx)\r\n",
        "\r\n",
        "\r\n",
        "    def result(self):\r\n",
        "        return self.mtx\r\n",
        "\r\n",
        "\r\n",
        "    def reset_states(self):\r\n",
        "        # Set to zero when epoch ends\r\n",
        "        self.mtx.assign(tf.constant(0, shape=[self.n_labels, self.n_labels], dtype=tf.int32))"
      ],
      "execution_count": null,
      "outputs": []
    },
    {
      "cell_type": "code",
      "metadata": {
        "id": "tPDU1LZMVbCj"
      },
      "source": [
        "# Build our custom callback to print the training process\r\n",
        "class CustomPrinted(tf.keras.callbacks.Callback):\r\n",
        "\r\n",
        "    def on_epoch_end(self, epoch, logs):\r\n",
        "\r\n",
        "        print(f'\\nEnd of epoch: {epoch+1}\\n')\r\n",
        "        print('====================================================')\r\n",
        "        print(f'loss: {logs[\"loss\"]:.2f}   val_loss: {logs[\"val_loss\"]:.2f}')\r\n",
        "        print('====================================================')\r\n",
        "\r\n",
        "        print('\\nValidation Confusion Matrix:\\n')\r\n",
        "        print(f'{logs[\"val_cfs_mtx\"]}\\n')\r\n",
        "        print('====================================================\\n')"
      ],
      "execution_count": null,
      "outputs": []
    },
    {
      "cell_type": "code",
      "metadata": {
        "id": "jZ_YEeo8VSQG"
      },
      "source": [
        "# Compile the model with our metric\r\n",
        "model.compile(optimizer=tf.keras.optimizers.RMSprop(learning_rate=0.1),\r\n",
        "              loss='mean_squared_error',\r\n",
        "              metrics=[ConfusionMatrix(n_labels=n_labels)])\r\n",
        "\r\n"
      ],
      "execution_count": null,
      "outputs": []
    },
    {
      "cell_type": "code",
      "metadata": {
        "colab": {
          "base_uri": "https://localhost:8080/"
        },
        "id": "tLWDg0IBuzp0",
        "outputId": "7a9234fd-4dc6-4881-b5d7-d3f181500760"
      },
      "source": [
        "# Set our custom callback\r\n",
        "callbacks = [CustomPrinted()]\r\n",
        "\r\n",
        "hist = model.fit(x_train, y_train,\r\n",
        "                 batch_size=16,\r\n",
        "                 steps_per_epoch=10,\r\n",
        "                 epochs=5,\r\n",
        "                 verbose=1,\r\n",
        "                 validation_split=0.5,\r\n",
        "                 callbacks=[callbacks])\r\n"
      ],
      "execution_count": null,
      "outputs": [
        {
          "output_type": "stream",
          "text": [
            "Epoch 1/5\n",
            "10/10 [==============================] - 3s 222ms/step - loss: 171.0591 - cfs_mtx: 0.9455 - val_loss: 6.1958 - val_cfs_mtx: 300.0000\n",
            "\n",
            "End of epoch: 1\n",
            "\n",
            "====================================================\n",
            "loss: 102.64   val_loss: 6.20\n",
            "====================================================\n",
            "\n",
            "Validation Confusion Matrix:\n",
            "\n",
            "[[   0  147  106  353   37    2 1972  338    6    1]\n",
            " [   0    2   10   25    0    0 2818   32  432    0]\n",
            " [   0  179  221  100   47    6 1701  711   22   23]\n",
            " [   0   50  201 1407    7    2 1079  250   58    4]\n",
            " [   0  143   19  135   91    9 2140   25  328   26]\n",
            " [   1   66  132  485    3   20 1571  287  146    1]\n",
            " [   0    7   21  197    1   15 2301  220  181    0]\n",
            " [   0  265  252  172    0    3 2183   88  147   48]\n",
            " [   0   10   37  109    0    0 2743   54   23    0]\n",
            " [   0  109   40  311    2    0 1905   26  503   50]]\n",
            "\n",
            "====================================================\n",
            "\n",
            "Epoch 2/5\n",
            "10/10 [==============================] - 2s 167ms/step - loss: 6.6361 - cfs_mtx: 0.9455 - val_loss: 27.1700 - val_cfs_mtx: 300.0000\n",
            "\n",
            "End of epoch: 2\n",
            "\n",
            "====================================================\n",
            "loss: 10.40   val_loss: 27.17\n",
            "====================================================\n",
            "\n",
            "Validation Confusion Matrix:\n",
            "\n",
            "[[   0 1232  344   26    0    0 1356    0    4    0]\n",
            " [   0 2029   41   18    0    0  733    0  497    1]\n",
            " [   0  940  879  226    0    0  921    0   31   13]\n",
            " [   0  904  770  840    0    0  469    0   68    7]\n",
            " [   0 1097  278  288    0    0 1147    0  101    5]\n",
            " [   0  745  667  227    0    0  834    0  233    6]\n",
            " [   0  222  209  259    1    1 2200    1   49    1]\n",
            " [   0 1350  879   77    0    0  785    1   48   18]\n",
            " [   0 1276  232   82    0    0 1329    0   55    2]\n",
            " [   0 1229  496  236    0    0  847    0  126   12]]\n",
            "\n",
            "====================================================\n",
            "\n",
            "Epoch 3/5\n",
            "10/10 [==============================] - 2s 167ms/step - loss: 44.5693 - cfs_mtx: 0.9455 - val_loss: 7.0887 - val_cfs_mtx: 300.0000\n",
            "\n",
            "End of epoch: 3\n",
            "\n",
            "====================================================\n",
            "loss: 41.21   val_loss: 7.09\n",
            "====================================================\n",
            "\n",
            "Validation Confusion Matrix:\n",
            "\n",
            "[[  59  918  147  103  198    9 1479    0   47    2]\n",
            " [   6 2646   14   19  337    8  139    0  150    0]\n",
            " [ 123  628  528  183  714   75  625    2  119   13]\n",
            " [  23  992  201  887  310   18  534    3   90    0]\n",
            " [  62  804   23  216 1317   72  305    0  117    0]\n",
            " [ 109  676  144  273  525   39  805    0  139    2]\n",
            " [ 141  136  191  202  534  325 1374    0   40    0]\n",
            " [  77 1666   24  124  476   84  616   11   68   12]\n",
            " [  14 1664   50  142  259   15  760    0   72    0]\n",
            " [  35 1349    8  243  690   42  487    0   90    2]]\n",
            "\n",
            "====================================================\n",
            "\n",
            "Epoch 4/5\n",
            "10/10 [==============================] - 2s 167ms/step - loss: 12.4927 - cfs_mtx: 0.9455 - val_loss: 40.0688 - val_cfs_mtx: 300.0000\n",
            "\n",
            "End of epoch: 4\n",
            "\n",
            "====================================================\n",
            "loss: 20.73   val_loss: 40.07\n",
            "====================================================\n",
            "\n",
            "Validation Confusion Matrix:\n",
            "\n",
            "[[1973    0    0    0   74  915    0    0    0    0]\n",
            " [1283    0  290    0  634  800  245    0   59    8]\n",
            " [1609    0    2    0  319 1073    0    3    3    1]\n",
            " [1523    0   18   13  102 1370    9    9   12    2]\n",
            " [1249    0    1    0  593 1070    0    3    0    0]\n",
            " [1236    0   46    1  135 1281    3    0    7    3]\n",
            " [1092    0    0    0  160 1691    0    0    0    0]\n",
            " [1587    0    0    0  194 1376    0    0    0    1]\n",
            " [1642    0    5    0  102 1225    1    1    0    0]\n",
            " [1881    0    0    0  286  776    0    1    2    0]]\n",
            "\n",
            "====================================================\n",
            "\n",
            "Epoch 5/5\n",
            "10/10 [==============================] - 1s 164ms/step - loss: 40.5188 - cfs_mtx: 0.9455 - val_loss: 6.2393 - val_cfs_mtx: 300.0000\n",
            "\n",
            "End of epoch: 5\n",
            "\n",
            "====================================================\n",
            "loss: 45.70   val_loss: 6.24\n",
            "====================================================\n",
            "\n",
            "Validation Confusion Matrix:\n",
            "\n",
            "[[ 257    3  406   71  164 1681   50   69  231   30]\n",
            " [  11   28  487   72  642 1413   88    5  536   37]\n",
            " [ 255    0  212  154  237 1558   51   60  470   13]\n",
            " [ 123    0  131  152  259 2210   23    9  148    3]\n",
            " [ 120    1   84   71  574 1655   32   19  295   65]\n",
            " [ 117    1   90    8  140 2223   17   13   94    9]\n",
            " [ 240    2   67   10  189 2233   73   13   95   21]\n",
            " [ 192    8  628   70  150 1164   59  166  458  263]\n",
            " [ 125    0  144   32  189 2069   28   11  364   14]\n",
            " [ 131    0  221   70  364 1495   53   10  535   67]]\n",
            "\n",
            "====================================================\n",
            "\n"
          ],
          "name": "stdout"
        }
      ]
    },
    {
      "cell_type": "markdown",
      "metadata": {
        "id": "TgkZs1VZiAtx"
      },
      "source": [
        "Great !!!!!!!!!!!!! :D\r\n",
        "\r\n",
        "\r\n",
        "But notice that it prints our **cft_mtx** as a float value after <br> \r\n",
        "each training batch ends. We can disable this modifying the<br>\r\n",
        "**on_train_batch_end** method and setting verbose to zero:\r\n",
        "\r\n",
        "---"
      ]
    },
    {
      "cell_type": "code",
      "metadata": {
        "id": "5K8roBSjaSoh"
      },
      "source": [
        "# Build our custom callback to print the training process\r\n",
        "class CustomPrinted(tf.keras.callbacks.Callback):\r\n",
        "\r\n",
        "    def on_epoch_begin(self, epoch, logs=None):\r\n",
        "        print(f'\\nEpoch: {epoch+1}\\n')\r\n",
        "\r\n",
        "    def on_train_batch_end(self, batch, logs=None):\r\n",
        "        print(f'training batch: {batch} ... loss: {logs[\"loss\"]:.2f}')\r\n",
        "\r\n",
        "    def on_epoch_end(self, epoch, logs):\r\n",
        "\r\n",
        "        print(f'\\nEnd of epoch: {epoch+1}\\n')\r\n",
        "        print('====================================================')\r\n",
        "        print(f'loss: {logs[\"loss\"]:.2f}   val_loss: {logs[\"val_loss\"]:.2f}')\r\n",
        "        print('====================================================')\r\n",
        "\r\n",
        "        print('\\nValidation Confusion Matrix:\\n')\r\n",
        "        print(f'{logs[\"val_cfs_mtx\"]}\\n')\r\n",
        "        print('====================================================\\n')"
      ],
      "execution_count": null,
      "outputs": []
    },
    {
      "cell_type": "code",
      "metadata": {
        "id": "BhsHmEuQaSlN"
      },
      "source": [
        "# Compile the model with our metric\r\n",
        "model.compile(optimizer=tf.keras.optimizers.RMSprop(learning_rate=0.1),\r\n",
        "              loss='mean_squared_error',\r\n",
        "              metrics=[ConfusionMatrix(n_labels=n_labels)])\r\n"
      ],
      "execution_count": null,
      "outputs": []
    },
    {
      "cell_type": "code",
      "metadata": {
        "colab": {
          "base_uri": "https://localhost:8080/"
        },
        "id": "NPOeHQEGaShr",
        "outputId": "4fc2f346-b0d3-4e17-dfea-f01e17780c49"
      },
      "source": [
        "# Set our custom callback\r\n",
        "callbacks = [CustomPrinted()]\r\n",
        "\r\n",
        "hist = model.fit(x_train, y_train,\r\n",
        "                 batch_size=16,\r\n",
        "                 steps_per_epoch=10,\r\n",
        "                 epochs=5,\r\n",
        "                 verbose=0,\r\n",
        "                 validation_split=0.5,\r\n",
        "                 callbacks=[callbacks])"
      ],
      "execution_count": null,
      "outputs": [
        {
          "output_type": "stream",
          "text": [
            "\n",
            "Epoch: 1\n",
            "\n",
            "training batch: 0 ... loss: 5.91\n",
            "training batch: 1 ... loss: 447.01\n",
            "training batch: 2 ... loss: 308.16\n",
            "training batch: 3 ... loss: 235.90\n",
            "training batch: 4 ... loss: 191.18\n",
            "training batch: 5 ... loss: 160.37\n",
            "training batch: 6 ... loss: 138.71\n",
            "training batch: 7 ... loss: 122.50\n",
            "training batch: 8 ... loss: 109.34\n",
            "training batch: 9 ... loss: 99.17\n",
            "\n",
            "End of epoch: 1\n",
            "\n",
            "====================================================\n",
            "loss: 99.17   val_loss: 9.79\n",
            "====================================================\n",
            "\n",
            "Validation Confusion Matrix:\n",
            "\n",
            "[[  60   18    0    5    5   22   29   86 2737    0]\n",
            " [   0   25    0    2    0    2   21   22 3247    0]\n",
            " [  43   19    4    5    2  125   58  280 2469    5]\n",
            " [  37    1    1   23    4  145   19  178 2641    9]\n",
            " [  11   22    1    4   14   95   17   93 2643   16]\n",
            " [  66    8    4    5   15  118   65  126 2295   10]\n",
            " [  47   16    2    7    1   90  117   81 2580    2]\n",
            " [  18   71   21   19   18   68   66  777 2088   12]\n",
            " [  24    0    1    0    5   54   18   58 2810    6]\n",
            " [  11   53    1   16   17   97   78  229 2431   13]]\n",
            "\n",
            "====================================================\n",
            "\n",
            "\n",
            "Epoch: 2\n",
            "\n",
            "training batch: 0 ... loss: 7.23\n",
            "training batch: 1 ... loss: 10.39\n",
            "training batch: 2 ... loss: 13.16\n",
            "training batch: 3 ... loss: 18.05\n",
            "training batch: 4 ... loss: 21.79\n",
            "training batch: 5 ... loss: 20.15\n",
            "training batch: 6 ... loss: 18.15\n",
            "training batch: 7 ... loss: 16.90\n",
            "training batch: 8 ... loss: 15.95\n",
            "training batch: 9 ... loss: 15.39\n",
            "\n",
            "End of epoch: 2\n",
            "\n",
            "====================================================\n",
            "loss: 15.39   val_loss: 28.19\n",
            "====================================================\n",
            "\n",
            "Validation Confusion Matrix:\n",
            "\n",
            "[[   0  126 2666  121    0    0    0   27   21    1]\n",
            " [   5 2044 1140   80    0    0    0   11   39    0]\n",
            " [  24  410 2100  315    5    0    3  102   21   30]\n",
            " [   3  371 1634  950    2    0    0   70   25    3]\n",
            " [   7  153 2314  313    0    0    0   65   60    4]\n",
            " [   4  174 2030  401    3    0    0   62   32    6]\n",
            " [  10  774 1643  356    0    4    9   75   66    6]\n",
            " [   2  205 2144  469    1    0    0  308   23    6]\n",
            " [   1  291 2273  282    1    0    0   35   91    2]\n",
            " [   0  218 2113  397    3    0    0  160   44   11]]\n",
            "\n",
            "====================================================\n",
            "\n",
            "\n",
            "Epoch: 3\n",
            "\n",
            "training batch: 0 ... loss: 31.75\n",
            "training batch: 1 ... loss: 42.48\n",
            "training batch: 2 ... loss: 47.35\n",
            "training batch: 3 ... loss: 42.96\n",
            "training batch: 4 ... loss: 45.10\n",
            "training batch: 5 ... loss: 51.69\n",
            "training batch: 6 ... loss: 51.02\n",
            "training batch: 7 ... loss: 47.32\n",
            "training batch: 8 ... loss: 43.87\n",
            "training batch: 9 ... loss: 40.67\n",
            "\n",
            "End of epoch: 3\n",
            "\n",
            "====================================================\n",
            "loss: 40.67   val_loss: 10.24\n",
            "====================================================\n",
            "\n",
            "Validation Confusion Matrix:\n",
            "\n",
            "[[  41  110 1251 1098  118   17    9   57  227   34]\n",
            " [   2  751 1009  841   33    0    3  161  518    1]\n",
            " [  52   63 1283 1055   81    7   25  198  168   78]\n",
            " [  26   19  745 1815  200   12    3   76  141   21]\n",
            " [  50   94 1128  790  231    7    6  255  283   72]\n",
            " [  11   43  879 1192   51    1   27  135  338   35]\n",
            " [  33   99  896 1446   55   10   97  118  165   24]\n",
            " [ 452   50  589  573 1096   72    0  205  101   20]\n",
            " [   8   20 1183  992   27    3    8  198  480   57]\n",
            " [  20   67  875  756  452    6    4  438  220  108]]\n",
            "\n",
            "====================================================\n",
            "\n",
            "\n",
            "Epoch: 4\n",
            "\n",
            "training batch: 0 ... loss: 12.89\n",
            "training batch: 1 ... loss: 11.47\n",
            "training batch: 2 ... loss: 11.83\n",
            "training batch: 3 ... loss: 15.42\n",
            "training batch: 4 ... loss: 20.96\n",
            "training batch: 5 ... loss: 26.14\n",
            "training batch: 6 ... loss: 27.56\n",
            "training batch: 7 ... loss: 27.38\n",
            "training batch: 8 ... loss: 26.11\n",
            "training batch: 9 ... loss: 24.79\n",
            "\n",
            "End of epoch: 4\n",
            "\n",
            "====================================================\n",
            "loss: 24.79   val_loss: 17.23\n",
            "====================================================\n",
            "\n",
            "Validation Confusion Matrix:\n",
            "\n",
            "[[   0    0    1    3    1    0  266 2450  196   45]\n",
            " [   0   27    0    1    0    1  714 1274 1250   52]\n",
            " [   0    2    0    9    2    2  368 2298  230   99]\n",
            " [   0    1    0  125    5    1  547 1568  642  169]\n",
            " [   0    0    0    4   21    4  298 1695  535  359]\n",
            " [   1    1    3   32    7    7  399 1273  822  167]\n",
            " [   0    2    0   18    3    4  908 1794  191   23]\n",
            " [   0    8    1   13   61   35  108 2334  251  347]\n",
            " [   0    1    0    8    2    1  494 1624  735  111]\n",
            " [   0    3    0    1    6    4  217 1737  356  622]]\n",
            "\n",
            "====================================================\n",
            "\n",
            "\n",
            "Epoch: 5\n",
            "\n",
            "training batch: 0 ... loss: 13.42\n",
            "training batch: 1 ... loss: 13.06\n",
            "training batch: 2 ... loss: 12.44\n",
            "training batch: 3 ... loss: 12.97\n",
            "training batch: 4 ... loss: 19.44\n",
            "training batch: 5 ... loss: 26.66\n",
            "training batch: 6 ... loss: 27.89\n",
            "training batch: 7 ... loss: 26.56\n",
            "training batch: 8 ... loss: 24.34\n",
            "training batch: 9 ... loss: 22.69\n",
            "\n",
            "End of epoch: 5\n",
            "\n",
            "====================================================\n",
            "loss: 22.69   val_loss: 7.88\n",
            "====================================================\n",
            "\n",
            "Validation Confusion Matrix:\n",
            "\n",
            "[[  22    3 2928    5    3    0    0    0    1    0]\n",
            " [ 705    1 2334    0  258    0    0    0   21    0]\n",
            " [  42    1 2918    5   30    3    0    4    7    0]\n",
            " [ 361    5 2575   24   75    6    2    1    9    0]\n",
            " [ 203   11 2589    3   95    5    0    0   10    0]\n",
            " [ 220    4 2424    7   54    1    0    0    2    0]\n",
            " [  75    3 2827    2   20   10    0    0    6    0]\n",
            " [ 533    4 2236    8  231  110    0   10   26    0]\n",
            " [  96    0 2845    1   31    0    0    0    3    0]\n",
            " [ 249    7 2562    0  110   15    0    1    2    0]]\n",
            "\n",
            "====================================================\n",
            "\n"
          ],
          "name": "stdout"
        }
      ]
    },
    {
      "cell_type": "markdown",
      "metadata": {
        "id": "B_98PtogeYbQ"
      },
      "source": [
        "---\r\n",
        "\r\n",
        "This is just an example, so you can build a more sofisticate summary <br>\r\n",
        "I recommend you read this [tutorial of keras of how to write callbacks]((https://keras.io/guides/writing_your_own_callbacks/)). <br>\r\n",
        "And also, this [tutorial\r\n",
        "of how to write custom Metrics](https://keras.io/api/metrics/) . <br>\r\n",
        "\r\n",
        "Best\r\n",
        "\r\n",
        ";) \r\n",
        "\r\n",
        "---"
      ]
    }
  ]
}